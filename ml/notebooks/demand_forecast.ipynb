{
 "cells": [
  {
   "cell_type": "markdown",
   "metadata": {},
   "source": [
    "# Demand Forecast Demo\n",
    "This notebook demonstrates a simple moving average forecast."
   ]
  },
  {
   "cell_type": "code",
   "execution_count": null,
   "metadata": {},
   "outputs": [],
   "source": [
    "from ml.forecasting import moving_average\n",
    "history = [100, 120, 130, 90, 110, 115, 105]\n",
    "forecast = moving_average(history)\n",
    "print(f'Forecast for next period: {forecast}')"
   ]
  }
 ],
 "metadata": {
  "kernelspec": {
   "display_name": "Python 3",
   "language": "python",
   "name": "python3"
  },
  "language_info": {
   "name": "python",
   "version": "3.11"
  }
 },
 "nbformat": 4,
 "nbformat_minor": 5
}
